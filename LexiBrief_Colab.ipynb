{
  "cells": [
    {
      "cell_type": "code",
      "execution_count": null,
      "metadata": {
        "vscode": {
          "languageId": "plaintext"
        }
      },
      "outputs": [],
      "source": [
        "# LexiBrief - Legal Document Summarizer\n",
        "This notebook runs the LexiBrief project using Google Colab's GPU. Follow the cells in order to set up and run the project.\n"
      ]
    },
    {
      "cell_type": "code",
      "execution_count": null,
      "metadata": {},
      "outputs": [],
      "source": [
        "# Check if GPU is available\n",
        "import torch\n",
        "print(\"GPU available:\", torch.cuda.is_available())\n",
        "if torch.cuda.is_available():\n",
        "    print(\"GPU device:\", torch.cuda.get_device_name(0))\n"
      ]
    },
    {
      "cell_type": "code",
      "execution_count": null,
      "metadata": {},
      "outputs": [],
      "source": [
        "# Upload project files\n",
        "from google.colab import files\n",
        "import os\n",
        "import shutil\n",
        "import zipfile\n",
        "\n",
        "print(\"Please prepare your project files:\")\n",
        "print(\"1. Zip your entire LexiBrief project folder\")\n",
        "print(\"2. Make sure to exclude any sensitive files (.env, etc.)\")\n",
        "print(\"3. Click 'Choose Files' when prompted and select your zip file\")\n",
        "\n",
        "# Upload the zip file\n",
        "uploaded = files.upload()\n",
        "zip_file_name = list(uploaded.keys())[0]\n",
        "\n",
        "# Extract the uploaded zip file\n",
        "with zipfile.ZipFile(zip_file_name, 'r') as zip_ref:\n",
        "    zip_ref.extractall('.')\n",
        "\n",
        "# Clean up the zip file\n",
        "os.remove(zip_file_name)\n",
        "\n",
        "# Install dependencies\n",
        "!pip install -r LexiBrief/requirements.txt\n",
        "\n",
        "# Change to project directory\n",
        "%cd LexiBrief\n",
        "\n",
        "print(\"\\n✅ Project files uploaded and dependencies installed\")\n"
      ]
    },
    {
      "cell_type": "code",
      "execution_count": null,
      "metadata": {},
      "outputs": [],
      "source": [
        "# Set up environment variables\n",
        "import os\n",
        "from dotenv import load_dotenv\n",
        "\n",
        "# Create .env file with your OpenRouter API key\n",
        "with open('.env', 'w') as f:\n",
        "    f.write('OPENROUTER_API_KEY=your_api_key_here')  # Replace with your actual API key\n",
        "\n",
        "# Load environment variables\n",
        "load_dotenv()\n"
      ]
    },
    {
      "cell_type": "code",
      "execution_count": null,
      "metadata": {},
      "outputs": [],
      "source": [
        "# Update training configuration for GPU\n",
        "import yaml\n",
        "\n",
        "config_updates = {\n",
        "    'training': {\n",
        "        'per_device_train_batch_size': 4,  # Increased for GPU\n",
        "        'per_device_eval_batch_size': 4,   # Increased for GPU\n",
        "        'gradient_accumulation_steps': 4    # Adjusted for GPU\n",
        "    },\n",
        "    'hardware': {\n",
        "        'mixed_precision': 'fp16',          # Enable mixed precision for GPU\n",
        "        'device': 'cuda'                    # Set to GPU\n",
        "    }\n",
        "}\n",
        "\n",
        "# Read existing config\n",
        "with open('configs/training_config.yaml', 'r') as f:\n",
        "    config = yaml.safe_load(f)\n",
        "\n",
        "# Update config\n",
        "def update_dict(d, u):\n",
        "    for k, v in u.items():\n",
        "        if isinstance(v, dict):\n",
        "            d[k] = update_dict(d.get(k, {}), v)\n",
        "        else:\n",
        "            d[k] = v\n",
        "    return d\n",
        "\n",
        "config = update_dict(config, config_updates)\n",
        "\n",
        "# Save updated config\n",
        "with open('configs/training_config.yaml', 'w') as f:\n",
        "    yaml.dump(config, f, default_flow_style=False)\n"
      ]
    },
    {
      "cell_type": "code",
      "execution_count": null,
      "metadata": {},
      "outputs": [],
      "source": [
        "# Import and run your training script\n",
        "from train import train  # Adjust this import based on your actual training script name and function\n",
        "\n",
        "# Run training\n",
        "train()\n"
      ]
    }
  ],
  "metadata": {
    "language_info": {
      "name": "python"
    }
  },
  "nbformat": 4,
  "nbformat_minor": 2
}
